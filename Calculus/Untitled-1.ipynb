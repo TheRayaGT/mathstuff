{
 "cells": [
  {
   "cell_type": "code",
   "execution_count": null,
   "metadata": {},
   "outputs": [],
   "source": [
    "<html>\n",
    "<head>\n",
    "  <meta charset=\"utf-8\">\n",
    "  <meta name=\"viewport\" content=\"width=device-width\">\n",
    "  <title>MathJax example</title>\n",
    "  <script src=\"https://polyfill.io/v3/polyfill.min.js?features=es6\"></script>\n",
    "  <script id=\"MathJax-script\" async\n",
    "          src=\"https://cdn.jsdelivr.net/npm/mathjax@3/es5/tex-mml-chtml.js\">\n",
    "  </script>\n",
    "</head>\n",
    "<body>\n",
    "<p>\n",
    "  When \\(a \\ne 0\\), there are two solutions to \\(ax^2 + bx + c = 0\\) and they are\n",
    "  \\[x = {-b \\pm \\sqrt{b^2-4ac} \\over 2a}.\\]\n",
    "</p>\n",
    "</body>\n",
    "</html>\n"
   ]
  }
 ],
 "metadata": {
  "language_info": {
   "name": "python"
  },
  "orig_nbformat": 4
 },
 "nbformat": 4,
 "nbformat_minor": 2
}
